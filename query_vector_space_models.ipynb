{
 "cells": [
  {
   "cell_type": "markdown",
   "id": "2b8e4bb4",
   "metadata": {},
   "source": [
    "# Load and query pre-trained model\n",
    "\n",
    "In order to query a pretrained model, you need to have a trained model in the `./models` folder."
   ]
  },
  {
   "cell_type": "markdown",
   "id": "b3a3c2a5",
   "metadata": {},
   "source": [
    "## Import dependencies"
   ]
  },
  {
   "cell_type": "code",
   "execution_count": 1,
   "id": "99a4a053",
   "metadata": {},
   "outputs": [],
   "source": [
    "import os\n",
    "try:\n",
    "    from collections.abc import Mapping\n",
    "    from gensim.models.word2vec import Word2Vec\n",
    "    from gensim.models import FastText\n",
    "except:\n",
    "#     print(\"Depencies not found. Make sure you have installed GenSim.\")\n",
    "    !pip install -Iv gensim\n",
    "    from collections.abc import Mapping\n",
    "    from gensim.models.word2vec import Word2Vec\n",
    "    from gensim.models import FastText"
   ]
  },
  {
   "cell_type": "markdown",
   "id": "e95ece02",
   "metadata": {},
   "source": [
    "## List available models\n",
    "\n",
    "If you want to train a new model, use the 'build_greek_w2v_model.ipynb' or 'build_greek_fasttext_model.ipynb' scripts."
   ]
  },
  {
   "cell_type": "code",
   "execution_count": 2,
   "id": "5d9aa2ab",
   "metadata": {
    "scrolled": true
   },
   "outputs": [
    {
     "name": "stdout",
     "output_type": "stream",
     "text": [
      "Available models:\n",
      "\n",
      "0. \"ft_papyri&corpus_cbow_hs_2_to_5_size300_window5_mincount2.model\"\n",
      "\n",
      "1. \"ft_papyri&corpus_cbow_hs_2_to_5_size300_window5_mincount2.model.wv.vectors_ngrams.npy\"\n",
      "\n",
      "2. \"papyri&corpus_skipgram_size300_window5_mincount2.model\"\n",
      "\n",
      "3. \"dec2017.model\"\n",
      "\n",
      "4. \"nov2022.model\"\n",
      "\n",
      "5. \"nov2022_includes_papyri.model\"\n",
      "\n",
      "6. \"sept2018.model\"\n",
      "\n",
      "8. \"papyri&corpus_cbow_size300_window5_mincount2.model\"\n",
      "\n"
     ]
    },
    {
     "data": {
      "text/plain": [
       "[None, None, None, None, None, None, None, None]"
      ]
     },
     "execution_count": 2,
     "metadata": {},
     "output_type": "execute_result"
    }
   ],
   "source": [
    "print('Available models:\\n')\n",
    "models = os.listdir('./models')\n",
    "[print(f'{count}. \"' + filename + '\"\\n') for count, filename in enumerate(models) if not(filename.startswith('.'))]"
   ]
  },
  {
   "cell_type": "code",
   "execution_count": 3,
   "id": "15dd02eb",
   "metadata": {},
   "outputs": [],
   "source": [
    "selected_model_number = 0\n",
    "\n",
    "model_name = models[selected_model_number]"
   ]
  },
  {
   "cell_type": "code",
   "execution_count": 4,
   "id": "ca4d5d3b",
   "metadata": {},
   "outputs": [],
   "source": [
    "model = Word2Vec.load('./models/' + model_name)\n",
    "model = model.wv"
   ]
  },
  {
   "cell_type": "markdown",
   "id": "9cd5b025",
   "metadata": {},
   "source": [
    "## Get most-similar hits for input lemma"
   ]
  },
  {
   "cell_type": "code",
   "execution_count": 7,
   "id": "aee3d5d5",
   "metadata": {},
   "outputs": [
    {
     "name": "stdout",
     "output_type": "stream",
     "text": [
      "ἀρχιερεύς\n"
     ]
    },
    {
     "data": {
      "text/plain": [
       "[('ἀρχιερατεύω', 0.6793726682662964),\n",
       " ('ἀρχιερωσύνη', 0.6621080040931702),\n",
       " ('περεύς', 0.659621000289917),\n",
       " ('ἱερεύς', 0.6541177034378052),\n",
       " ('ἀρχιερατικός', 0.6150493621826172),\n",
       " ('ἀρεύς', 0.5969539284706116),\n",
       " ('πρῳρεύς', 0.5262369513511658),\n",
       " ('κοπρεύς', 0.5242884159088135),\n",
       " ('ἀρχιτέλης', 0.509056806564331),\n",
       " ('ἀρχισωματοφύλαξ', 0.5088239908218384)]"
      ]
     },
     "execution_count": 7,
     "metadata": {},
     "output_type": "execute_result"
    }
   ],
   "source": [
    "test_lemmas = ['ἀρχιερεύς', 'ἄγγελος', 'πιλᾶτος', 'πέτρος', 'σῶμα', 'ψυχή', 'νέκρωσις', 'λύγξ', 'λόγος', 'φιλοσοφία']\n",
    "print(test_lemmas[0])\n",
    "model.most_similar(test_lemmas[0], topn=10)"
   ]
  },
  {
   "cell_type": "markdown",
   "id": "a8c0a2e2",
   "metadata": {},
   "source": [
    "## Compare tokenized sentences"
   ]
  },
  {
   "cell_type": "code",
   "execution_count": 54,
   "id": "40f2bb0d",
   "metadata": {},
   "outputs": [
    {
     "data": {
      "text/plain": [
       "0.5299723"
      ]
     },
     "execution_count": 54,
     "metadata": {},
     "output_type": "execute_result"
    }
   ],
   "source": [
    "word_set_1 = ['ἀρχιερεύς', 'ἄγγελος']\n",
    "word_set_2 = ['πιλᾶτος', 'πέτρος']\n",
    "\n",
    "model.n_similarity(word_set_1, word_set_2)"
   ]
  }
 ],
 "metadata": {
  "kernelspec": {
   "display_name": "Python 3 (ipykernel)",
   "language": "python",
   "name": "python3"
  },
  "language_info": {
   "codemirror_mode": {
    "name": "ipython",
    "version": 3
   },
   "file_extension": ".py",
   "mimetype": "text/x-python",
   "name": "python",
   "nbconvert_exporter": "python",
   "pygments_lexer": "ipython3",
   "version": "3.8.13"
  }
 },
 "nbformat": 4,
 "nbformat_minor": 5
}

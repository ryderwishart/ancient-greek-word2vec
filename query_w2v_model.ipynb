{
 "cells": [
  {
   "cell_type": "markdown",
   "id": "2b8e4bb4",
   "metadata": {},
   "source": [
    "# Load and query pre-trained model\n",
    "\n",
    "In order to query a pretrained model, you need to have a trained model in the `./models` folder."
   ]
  },
  {
   "cell_type": "markdown",
   "id": "b3a3c2a5",
   "metadata": {},
   "source": [
    "## Import dependencies"
   ]
  },
  {
   "cell_type": "code",
   "execution_count": 1,
   "id": "99a4a053",
   "metadata": {},
   "outputs": [],
   "source": [
    "import os\n",
    "try:\n",
    "    from collections.abc import Mapping\n",
    "    from gensim.models.word2vec import Word2Vec\n",
    "except:\n",
    "#     print(\"Depencies not found. Make sure you have installed GenSim.\")\n",
    "    !pip install -Iv gensim==3.2.0\n",
    "    from collections.abc import Mapping\n",
    "    from gensim.models.word2vec import Word2Vec"
   ]
  },
  {
   "cell_type": "markdown",
   "id": "e95ece02",
   "metadata": {},
   "source": [
    "## List available models\n",
    "\n",
    "If you want to train a new model, use the 'build_greek_w2v_model.ipynb' scripts."
   ]
  },
  {
   "cell_type": "code",
   "execution_count": 16,
   "id": "5d9aa2ab",
   "metadata": {},
   "outputs": [
    {
     "name": "stdout",
     "output_type": "stream",
     "text": [
      "Available models:\n",
      "\n",
      "0. \"papyri&corpus_skipgram_size300_window5_mincount2.model\"\n",
      "\n",
      "1. \"dec2017.model\"\n",
      "\n",
      "2. \"nov2022.model\"\n",
      "\n",
      "3. \"nov2022_includes_papyri.model\"\n",
      "\n",
      "4. \"sept2018.model\"\n",
      "\n",
      "5. \"papyri&corpus_cbow_size300_window5_mincount2.model\"\n",
      "\n"
     ]
    },
    {
     "data": {
      "text/plain": [
       "[None, None, None, None, None, None]"
      ]
     },
     "execution_count": 16,
     "metadata": {},
     "output_type": "execute_result"
    }
   ],
   "source": [
    "print('Available models:\\n')\n",
    "models = os.listdir('./models')\n",
    "[print(f'{count}. \"' + filename + '\"\\n') for count, filename in enumerate(models) if not(filename.startswith('.'))]"
   ]
  },
  {
   "cell_type": "code",
   "execution_count": 50,
   "id": "15dd02eb",
   "metadata": {},
   "outputs": [],
   "source": [
    "selected_model_number = 5\n",
    "\n",
    "model_name = models[selected_model_number]"
   ]
  },
  {
   "cell_type": "code",
   "execution_count": 51,
   "id": "ca4d5d3b",
   "metadata": {},
   "outputs": [],
   "source": [
    "model = Word2Vec.load('./models/' + model_name)\n",
    "model = model.wv"
   ]
  },
  {
   "cell_type": "markdown",
   "id": "f90735c2",
   "metadata": {},
   "source": [
    "## Get most-similar hits for input lemma"
   ]
  },
  {
   "cell_type": "code",
   "execution_count": 53,
   "id": "aee3d5d5",
   "metadata": {},
   "outputs": [
    {
     "name": "stdout",
     "output_type": "stream",
     "text": [
      "λόγος\n"
     ]
    },
    {
     "data": {
      "text/plain": [
       "[('ἑρμηνεία', 0.5288925766944885),\n",
       " ('ἐξήγησις', 0.5065293312072754),\n",
       " ('θεολογία', 0.4956413805484772),\n",
       " ('διδασκαλία', 0.48970848321914673),\n",
       " ('ὑπόληψις', 0.47546130418777466),\n",
       " ('διήγησις', 0.47397667169570923),\n",
       " ('σκέψις', 0.47282832860946655),\n",
       " ('θεωρία', 0.47240814566612244),\n",
       " ('διαλέγω', 0.4657094478607178),\n",
       " ('φυσιολογία', 0.4602492153644562)]"
      ]
     },
     "execution_count": 53,
     "metadata": {},
     "output_type": "execute_result"
    }
   ],
   "source": [
    "test_lemmas = ['ἀρχιερεύς', 'ἄγγελος', 'πιλᾶτος', 'πέτρος', 'σῶμα', 'ψυχή', 'νέκρωσις', 'λύγξ', 'λόγος']\n",
    "print(test_lemmas[-1])\n",
    "model.most_similar(test_lemmas[-1], topn=10)"
   ]
  },
  {
   "cell_type": "markdown",
   "id": "61cd6be0",
   "metadata": {},
   "source": [
    "## Compare tokenized sentences"
   ]
  },
  {
   "cell_type": "code",
   "execution_count": 54,
   "id": "78f6a15d",
   "metadata": {},
   "outputs": [
    {
     "data": {
      "text/plain": [
       "0.5299723"
      ]
     },
     "execution_count": 54,
     "metadata": {},
     "output_type": "execute_result"
    }
   ],
   "source": [
    "word_set_1 = ['ἀρχιερεύς', 'ἄγγελος']\n",
    "word_set_2 = ['πιλᾶτος', 'πέτρος']\n",
    "\n",
    "model.n_similarity(word_set_1, word_set_2)"
   ]
  }
 ],
 "metadata": {
  "kernelspec": {
   "display_name": "Python 3 (ipykernel)",
   "language": "python",
   "name": "python3"
  },
  "language_info": {
   "codemirror_mode": {
    "name": "ipython",
    "version": 3
   },
   "file_extension": ".py",
   "mimetype": "text/x-python",
   "name": "python",
   "nbconvert_exporter": "python",
   "pygments_lexer": "ipython3",
   "version": "3.8.13"
  }
 },
 "nbformat": 4,
 "nbformat_minor": 5
}

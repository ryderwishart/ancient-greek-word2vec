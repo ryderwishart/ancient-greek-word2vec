{
 "cells": [
  {
   "cell_type": "markdown",
   "id": "2b8e4bb4",
   "metadata": {},
   "source": [
    "# Load and query pre-trained model\n",
    "\n",
    "In order to query a pretrained model, you need to have a trained model in the `./models` folder."
   ]
  },
  {
   "cell_type": "markdown",
   "id": "b3a3c2a5",
   "metadata": {},
   "source": [
    "## Import dependencies"
   ]
  },
  {
   "cell_type": "code",
   "execution_count": 1,
   "id": "99a4a053",
   "metadata": {},
   "outputs": [],
   "source": [
    "import os\n",
    "try:\n",
    "    from collections.abc import Mapping\n",
    "    from gensim.models.word2vec import Word2Vec\n",
    "except:\n",
    "#     print(\"Depencies not found. Make sure you have installed GenSim.\")\n",
    "    !pip install -Iv gensim==3.2.0\n",
    "    from collections.abc import Mapping\n",
    "    from gensim.models.word2vec import Word2Vec"
   ]
  },
  {
   "cell_type": "markdown",
   "id": "e95ece02",
   "metadata": {},
   "source": [
    "## List available models\n",
    "\n",
    "If you want to train a new model, use the 'build_greek_w2v_model.ipynb' scripts."
   ]
  },
  {
   "cell_type": "code",
   "execution_count": 2,
   "id": "5d9aa2ab",
   "metadata": {},
   "outputs": [
    {
     "name": "stdout",
     "output_type": "stream",
     "text": [
      "Available models:\n",
      "\n",
      "- \"dec2017.model\"\n",
      "\n",
      "- \"nov2022.model\"\n",
      "\n",
      "- \"sept2018.model\"\n",
      "\n"
     ]
    },
    {
     "data": {
      "text/plain": [
       "[None, None, None]"
      ]
     },
     "execution_count": 2,
     "metadata": {},
     "output_type": "execute_result"
    }
   ],
   "source": [
    "print('Available models:\\n')\n",
    "[print('- \"' + filename + '\"\\n') for filename in os.listdir('./models') if not(filename.startswith('.'))]"
   ]
  },
  {
   "cell_type": "code",
   "execution_count": 3,
   "id": "15dd02eb",
   "metadata": {},
   "outputs": [],
   "source": [
    "model_name = \"nov2022.model\""
   ]
  },
  {
   "cell_type": "code",
   "execution_count": 4,
   "id": "ca4d5d3b",
   "metadata": {},
   "outputs": [],
   "source": [
    "model = Word2Vec.load('./models/' + model_name)\n",
    "model = model.wv"
   ]
  },
  {
   "cell_type": "code",
   "execution_count": 13,
   "id": "aee3d5d5",
   "metadata": {},
   "outputs": [
    {
     "data": {
      "text/plain": [
       "[('ἱερεύς', 0.6741834878921509),\n",
       " ('πατριάρχης', 0.6512661576271057),\n",
       " ('διάκονος', 0.6433295011520386),\n",
       " ('ἰούδας', 0.6175312399864197),\n",
       " ('ἀρχιερωσύνη', 0.6078990697860718),\n",
       " ('χρηματίζω', 0.5876879096031189),\n",
       " ('χειροτονέω', 0.577594518661499),\n",
       " ('ἀαρών', 0.5753183364868164),\n",
       " ('πιλᾶτος', 0.572640061378479),\n",
       " ('ἀναγορεύω', 0.5716601610183716)]"
      ]
     },
     "execution_count": 13,
     "metadata": {},
     "output_type": "execute_result"
    }
   ],
   "source": [
    "test_lemmas = ['ἀρχιερεύς', 'ἄγγελος', 'πιλᾶτος', 'πέτρος']\n",
    "\n",
    "model.most_similar(test_lemmas[0], topn=10)"
   ]
  },
  {
   "cell_type": "code",
   "execution_count": null,
   "id": "8731e483",
   "metadata": {},
   "outputs": [],
   "source": []
  }
 ],
 "metadata": {
  "kernelspec": {
   "display_name": "Python 3 (ipykernel)",
   "language": "python",
   "name": "python3"
  },
  "language_info": {
   "codemirror_mode": {
    "name": "ipython",
    "version": 3
   },
   "file_extension": ".py",
   "mimetype": "text/x-python",
   "name": "python",
   "nbconvert_exporter": "python",
   "pygments_lexer": "ipython3",
   "version": "3.8.13"
  }
 },
 "nbformat": 4,
 "nbformat_minor": 5
}
